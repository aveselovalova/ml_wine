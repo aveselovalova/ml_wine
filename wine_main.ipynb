{
 "cells": [
  {
   "cell_type": "code",
   "execution_count": null,
   "metadata": {},
   "outputs": [
    {
     "name": "stdout",
     "output_type": "stream",
     "text": [
      "RSME:  0.2613037146175219\n"
     ]
    }
   ],
   "source": [
    "import pandas as pd\n",
    "import matplotlib.pyplot as plt\n",
    "import sklearn.linear_model as lm\n",
    "from sklearn.metrics import mean_squared_error\n",
    "from math import sqrt\n",
    "import seaborn as sns\n",
    "\n",
    "train_data = pd.read_csv('input/wine_train.csv')\n",
    "train_df = pd.DataFrame(train_data)\n",
    "\n",
    "train_x = train_df[['Year','WinterRain','Temperature', 'HarvestRain']]\n",
    "train_y = train_df.iloc[:,1]\n",
    "\n",
    "model = lm.LinearRegression()\n",
    "model.fit(train_x, train_y)\n",
    "\n",
    "predict = model.predict(train_x)\n",
    "err = mean_squared_error(train_y, predict)\n",
    "print('RSME: ', sqrt(err))\n",
    "\n",
    "#\n",
    "#smth strange\n",
    "#\n",
    "#plt.scatter(train_y, train_x['Year'],  color='black')\n",
    "#plt.plot(predict, train_x['Year'], color='green', linewidth=3)\n",
    "#print([predict.min(), predict.max()])\n",
    "#plt.show()\n",
    "#\n",
    "\n",
    "sns.set(color_codes=True)\n",
    "train_df['Predicted'] = predict\n",
    "sns.pairplot(train_df, x_vars=['LogPrice', 'Predicted'], y_vars=['Year'],\n",
    "             size=5, aspect=.8, kind=\"reg\");"
   ]
  },
  {
   "cell_type": "code",
   "execution_count": null,
   "metadata": {},
   "outputs": [],
   "source": []
  }
 ],
 "metadata": {
  "kernelspec": {
   "display_name": "Python 3",
   "language": "python",
   "name": "python3"
  },
  "language_info": {
   "codemirror_mode": {
    "name": "ipython",
    "version": 3
   },
   "file_extension": ".py",
   "mimetype": "text/x-python",
   "name": "python",
   "nbconvert_exporter": "python",
   "pygments_lexer": "ipython3",
   "version": "3.6.4"
  }
 },
 "nbformat": 4,
 "nbformat_minor": 2
}
